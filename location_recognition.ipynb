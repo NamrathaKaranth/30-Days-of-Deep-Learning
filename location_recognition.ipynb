{
  "nbformat": 4,
  "nbformat_minor": 0,
  "metadata": {
    "colab": {
      "name": "location_recognition.ipynb",
      "provenance": [],
      "machine_shape": "hm",
      "include_colab_link": true
    },
    "kernelspec": {
      "name": "python3",
      "display_name": "Python 3"
    },
    "accelerator": "GPU"
  },
  "cells": [
    {
      "cell_type": "markdown",
      "metadata": {
        "id": "view-in-github",
        "colab_type": "text"
      },
      "source": [
        "<a href=\"https://colab.research.google.com/github/NamrathaKaranth/30-Days-of-Deep-Learning/blob/main/location_recognition.ipynb\" target=\"_parent\"><img src=\"https://colab.research.google.com/assets/colab-badge.svg\" alt=\"Open In Colab\"/></a>"
      ]
    },
    {
      "cell_type": "code",
      "metadata": {
        "id": "cAjkmpUaGNlx",
        "outputId": "d16d35b8-c8e9-4700-b807-44db0154d11e",
        "colab": {
          "base_uri": "https://localhost:8080/",
          "height": 34
        }
      },
      "source": [
        "from google.colab import drive\n",
        "drive.mount(\"/content/drive\")"
      ],
      "execution_count": null,
      "outputs": [
        {
          "output_type": "stream",
          "text": [
            "Mounted at /content/drive\n"
          ],
          "name": "stdout"
        }
      ]
    },
    {
      "cell_type": "code",
      "metadata": {
        "id": "ZeXnDdh9G0Sh",
        "outputId": "dc6fde5f-5721-47ab-bd06-f3e7e0aa0637",
        "colab": {
          "base_uri": "https://localhost:8080/",
          "height": 34
        }
      },
      "source": [
        "%cd \"/content/drive/Shared drives/Datasets/stive-30days/day3\""
      ],
      "execution_count": null,
      "outputs": [
        {
          "output_type": "stream",
          "text": [
            "/content/drive/Shared drives/Datasets/stive-30days/day3\n"
          ],
          "name": "stdout"
        }
      ]
    },
    {
      "cell_type": "code",
      "metadata": {
        "id": "P1r8r0DWdGK7"
      },
      "source": [
        "!ls"
      ],
      "execution_count": null,
      "outputs": []
    },
    {
      "cell_type": "code",
      "metadata": {
        "id": "IJJbPLFYHLwQ"
      },
      "source": [
        "import os\n",
        "from tqdm import tqdm\n",
        "import cv2\n",
        "import pandas as pd\n",
        "import numpy as np"
      ],
      "execution_count": null,
      "outputs": []
    },
    {
      "cell_type": "code",
      "metadata": {
        "id": "HCwrRLTaM6da",
        "outputId": "7683a88c-64ec-4395-d34d-e75645514291",
        "colab": {
          "base_uri": "https://localhost:8080/",
          "height": 419
        }
      },
      "source": [
        "sample_submission_dataframe = pd.read_csv(\"./sample_submission.csv\")\n",
        "sample_submission_dataframe"
      ],
      "execution_count": null,
      "outputs": [
        {
          "output_type": "execute_result",
          "data": {
            "text/html": [
              "<div>\n",
              "<style scoped>\n",
              "    .dataframe tbody tr th:only-of-type {\n",
              "        vertical-align: middle;\n",
              "    }\n",
              "\n",
              "    .dataframe tbody tr th {\n",
              "        vertical-align: top;\n",
              "    }\n",
              "\n",
              "    .dataframe thead th {\n",
              "        text-align: right;\n",
              "    }\n",
              "</style>\n",
              "<table border=\"1\" class=\"dataframe\">\n",
              "  <thead>\n",
              "    <tr style=\"text-align: right;\">\n",
              "      <th></th>\n",
              "      <th>id</th>\n",
              "      <th>landmarks</th>\n",
              "    </tr>\n",
              "  </thead>\n",
              "  <tbody>\n",
              "    <tr>\n",
              "      <th>0</th>\n",
              "      <td>00084cdf8f600d00</td>\n",
              "      <td>137790 0.1</td>\n",
              "    </tr>\n",
              "    <tr>\n",
              "      <th>1</th>\n",
              "      <td>000b15b043eb8cf0</td>\n",
              "      <td>137790 0.1</td>\n",
              "    </tr>\n",
              "    <tr>\n",
              "      <th>2</th>\n",
              "      <td>0011a52f9b948fd2</td>\n",
              "      <td>137790 0.1</td>\n",
              "    </tr>\n",
              "    <tr>\n",
              "      <th>3</th>\n",
              "      <td>00141b8a5a729084</td>\n",
              "      <td>137790 0.1</td>\n",
              "    </tr>\n",
              "    <tr>\n",
              "      <th>4</th>\n",
              "      <td>0018aa4b92532b77</td>\n",
              "      <td>137790 0.1</td>\n",
              "    </tr>\n",
              "    <tr>\n",
              "      <th>...</th>\n",
              "      <td>...</td>\n",
              "      <td>...</td>\n",
              "    </tr>\n",
              "    <tr>\n",
              "      <th>10340</th>\n",
              "      <td>ffc41ddbcf63289b</td>\n",
              "      <td>137790 0.1</td>\n",
              "    </tr>\n",
              "    <tr>\n",
              "      <th>10341</th>\n",
              "      <td>ffd4c19b7732cbe9</td>\n",
              "      <td>137790 0.1</td>\n",
              "    </tr>\n",
              "    <tr>\n",
              "      <th>10342</th>\n",
              "      <td>ffee2cac79a173d6</td>\n",
              "      <td>137790 0.1</td>\n",
              "    </tr>\n",
              "    <tr>\n",
              "      <th>10343</th>\n",
              "      <td>ffef459d5dc6b981</td>\n",
              "      <td>137790 0.1</td>\n",
              "    </tr>\n",
              "    <tr>\n",
              "      <th>10344</th>\n",
              "      <td>fff30527c712f754</td>\n",
              "      <td>137790 0.1</td>\n",
              "    </tr>\n",
              "  </tbody>\n",
              "</table>\n",
              "<p>10345 rows × 2 columns</p>\n",
              "</div>"
            ],
            "text/plain": [
              "                     id   landmarks\n",
              "0      00084cdf8f600d00  137790 0.1\n",
              "1      000b15b043eb8cf0  137790 0.1\n",
              "2      0011a52f9b948fd2  137790 0.1\n",
              "3      00141b8a5a729084  137790 0.1\n",
              "4      0018aa4b92532b77  137790 0.1\n",
              "...                 ...         ...\n",
              "10340  ffc41ddbcf63289b  137790 0.1\n",
              "10341  ffd4c19b7732cbe9  137790 0.1\n",
              "10342  ffee2cac79a173d6  137790 0.1\n",
              "10343  ffef459d5dc6b981  137790 0.1\n",
              "10344  fff30527c712f754  137790 0.1\n",
              "\n",
              "[10345 rows x 2 columns]"
            ]
          },
          "metadata": {
            "tags": []
          },
          "execution_count": 7
        }
      ]
    },
    {
      "cell_type": "code",
      "metadata": {
        "id": "tVoH0C-XNV3U"
      },
      "source": [
        "class ImagePreprocessing():\n",
        "  \n",
        "  image_size = 75\n",
        "  data_path = \"./test/\"\n",
        "  training_data = []\n",
        "  buffer_row = \"\"\n",
        "\n",
        "  def split(self, word): \n",
        "    return [char for char in word]  \n",
        "  \n",
        "  def id_to_path(self, id):\n",
        "    id = id\n",
        "    path_array = self.split(id)[:3]\n",
        "    path = \"/\".join(path_array)\n",
        "    return self.data_path + path + \"/\" + id + \".jpg\"\n",
        "  \n",
        "  def generate_training_data(self, data_frame):\n",
        "    image_id_list = data_frame[\"id\"].values.tolist()\n",
        "    location_list = data_frame[\"landmarks\"].tolist()\n",
        "    landmark_labels = data_frame[\"landmarks\"].unique().tolist()\n",
        "    one_hot_encoding_label = data_frame[\"landmarks\"].unique().tolist()\n",
        "    try:\n",
        "      for index, row in data_frame.iterrows():\n",
        "        buffer_row = row\n",
        "        path = self.id_to_path(row.id)\n",
        "        image = cv2.imread(path, 0)\n",
        "        resized_image = cv2.resize(image, (self.image_size, self.image_size))\n",
        "        self.training_data.append([np.array(resized_image), np.eye(len(landmark_labels))[landmark_labels.index(row.landmarks)]])\n",
        "    except Exception as e :\n",
        "      print(e)\n",
        "    self.save_training_data()  \n",
        "    \n",
        "  def save_training_data(self):\n",
        "    return np.save(\"training_data.npy\", self.training_data)"
      ],
      "execution_count": null,
      "outputs": []
    },
    {
      "cell_type": "code",
      "metadata": {
        "id": "M0wRvpykQPdh"
      },
      "source": [
        "preprocessor = ImagePreprocessing()"
      ],
      "execution_count": null,
      "outputs": []
    },
    {
      "cell_type": "code",
      "metadata": {
        "id": "20_LNlxkQZbg"
      },
      "source": [
        "preprocessor.generate_training_data(sample_submission_dataframe)"
      ],
      "execution_count": null,
      "outputs": []
    },
    {
      "cell_type": "code",
      "metadata": {
        "id": "PHOfpjlAY5Je"
      },
      "source": [
        "print(preprocessor.training_data)"
      ],
      "execution_count": null,
      "outputs": []
    }
  ]
}