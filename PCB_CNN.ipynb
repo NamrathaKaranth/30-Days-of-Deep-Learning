{
  "nbformat": 4,
  "nbformat_minor": 0,
  "metadata": {
    "colab": {
      "name": "PCB CNN.ipynb",
      "provenance": [],
      "toc_visible": true,
      "machine_shape": "hm",
      "include_colab_link": true
    },
    "kernelspec": {
      "name": "python3",
      "display_name": "Python 3"
    }
  },
  "cells": [
    {
      "cell_type": "markdown",
      "metadata": {
        "id": "view-in-github",
        "colab_type": "text"
      },
      "source": [
        "<a href=\"https://colab.research.google.com/github/NamrathaKaranth/30-Days-of-Deep-Learning/blob/main/PCB_CNN.ipynb\" target=\"_parent\"><img src=\"https://colab.research.google.com/assets/colab-badge.svg\" alt=\"Open In Colab\"/></a>"
      ]
    },
    {
      "cell_type": "markdown",
      "metadata": {
        "id": "ZC2Wo8UD2Iae"
      },
      "source": [
        ""
      ]
    },
    {
      "cell_type": "markdown",
      "metadata": {
        "id": "d5M7P50O17GL"
      },
      "source": [
        "### Getting the dataset"
      ]
    },
    {
      "cell_type": "code",
      "metadata": {
        "id": "HlMG3XolAGu6"
      },
      "source": [
        "! pip install -q kaggle"
      ],
      "execution_count": null,
      "outputs": []
    },
    {
      "cell_type": "code",
      "metadata": {
        "id": "eMQRbSHSANtk",
        "outputId": "37b14394-3deb-4407-b14a-77787ede4d29",
        "colab": {
          "resources": {
            "http://localhost:8080/nbextensions/google.colab/files.js": {
              "data": "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",
              "ok": true,
              "headers": [
                [
                  "content-type",
                  "application/javascript"
                ]
              ],
              "status": 200,
              "status_text": ""
            }
          },
          "base_uri": "https://localhost:8080/",
          "height": 89
        }
      },
      "source": [
        "from google.colab import files\n",
        "files.upload()"
      ],
      "execution_count": null,
      "outputs": [
        {
          "output_type": "display_data",
          "data": {
            "text/html": [
              "\n",
              "     <input type=\"file\" id=\"files-e4e42b19-c657-451c-a6df-d753cbd3a5ad\" name=\"files[]\" multiple disabled\n",
              "        style=\"border:none\" />\n",
              "     <output id=\"result-e4e42b19-c657-451c-a6df-d753cbd3a5ad\">\n",
              "      Upload widget is only available when the cell has been executed in the\n",
              "      current browser session. Please rerun this cell to enable.\n",
              "      </output>\n",
              "      <script src=\"/nbextensions/google.colab/files.js\"></script> "
            ],
            "text/plain": [
              "<IPython.core.display.HTML object>"
            ]
          },
          "metadata": {
            "tags": []
          }
        },
        {
          "output_type": "stream",
          "text": [
            "Saving kaggle.json to kaggle.json\n"
          ],
          "name": "stdout"
        },
        {
          "output_type": "execute_result",
          "data": {
            "text/plain": [
              "{'kaggle.json': b'{\"username\":\"thisissteve\",\"key\":\"73df294b169ab380c9333b89787d0567\"}'}"
            ]
          },
          "metadata": {
            "tags": []
          },
          "execution_count": 3
        }
      ]
    },
    {
      "cell_type": "code",
      "metadata": {
        "id": "jr4-U52zAUlh"
      },
      "source": [
        " ! mkdir ~/.kaggle\n",
        " ! cp kaggle.json ~/.kaggle/\n",
        " ! chmod 600 ~/.kaggle/kaggle.json"
      ],
      "execution_count": null,
      "outputs": []
    },
    {
      "cell_type": "code",
      "metadata": {
        "id": "LdwYjuRYAmG_",
        "outputId": "55a09470-14ad-40ae-b6d7-35b162d8b0e8",
        "colab": {
          "base_uri": "https://localhost:8080/",
          "height": 68
        }
      },
      "source": [
        "!kaggle datasets download -d namrathakaranth/pcbexperiment"
      ],
      "execution_count": null,
      "outputs": [
        {
          "output_type": "stream",
          "text": [
            "Downloading pcbexperiment.zip to /content\n",
            " 99% 845M/854M [00:13<00:00, 62.3MB/s]\n",
            "100% 854M/854M [00:13<00:00, 65.3MB/s]\n"
          ],
          "name": "stdout"
        }
      ]
    },
    {
      "cell_type": "code",
      "metadata": {
        "id": "QJFIhjLtBp2P",
        "outputId": "8b265a83-37e4-44e7-b057-693fe70bdaea",
        "colab": {
          "base_uri": "https://localhost:8080/",
          "height": 1000
        }
      },
      "source": [
        "!unzip pcbexperiment.zip"
      ],
      "execution_count": null,
      "outputs": [
        {
          "output_type": "stream",
          "text": [
            "Archive:  pcbexperiment.zip\n",
            "  inflating: dataset/tobeaugmented/defected/20200707_085703.jpg  \n",
            "  inflating: dataset/tobeaugmented/defected/20200707_090641.jpg  \n",
            "  inflating: dataset/tobeaugmented/defected/20200707_091300.jpg  \n",
            "  inflating: dataset/tobeaugmented/defected/20200707_092157.jpg  \n",
            "  inflating: dataset/tobeaugmented/defected/20200707_092201.jpg  \n",
            "  inflating: dataset/tobeaugmented/defected/20200707_092731.jpg  \n",
            "  inflating: dataset/tobeaugmented/defected/20200707_093001.jpg  \n",
            "  inflating: dataset/tobeaugmented/defected/20200707_101023.jpg  \n",
            "  inflating: dataset/tobeaugmented/defected/20200707_101034.jpg  \n",
            "  inflating: dataset/tobeaugmented/defected/20200707_101039.jpg  \n",
            "  inflating: dataset/tobeaugmented/defected/20200707_101612.jpg  \n",
            "  inflating: dataset/tobeaugmented/defected/20200707_103238.jpg  \n",
            "  inflating: dataset/tobeaugmented/defected/20200707_103242.jpg  \n",
            "  inflating: dataset/tobeaugmented/defected/20200707_104608.jpg  \n",
            "  inflating: dataset/tobeaugmented/defected/20200707_105251.jpg  \n",
            "  inflating: dataset/tobeaugmented/defected/20200707_105252.jpg  \n",
            "  inflating: dataset/tobeaugmented/defected/20200707_110019.jpg  \n",
            "  inflating: dataset/tobeaugmented/defected/20200707_110506.jpg  \n",
            "  inflating: dataset/tobeaugmented/defected/20200707_110511.jpg  \n",
            "  inflating: dataset/tobeaugmented/defected/20200707_110514.jpg  \n",
            "  inflating: dataset/tobeaugmented/defected/20200707_111000.jpg  \n",
            "  inflating: dataset/tobeaugmented/defected/20200707_111003.jpg  \n",
            "  inflating: dataset/tobeaugmented/defected/20200707_111112.jpg  \n",
            "  inflating: dataset/tobeaugmented/defected/20200707_111342.jpg  \n",
            "  inflating: dataset/tobeaugmented/defected/20200707_111656.jpg  \n",
            "  inflating: dataset/tobeaugmented/defected/20200707_111702.jpg  \n",
            "  inflating: dataset/tobeaugmented/defected/20200707_112002.jpg  \n",
            "  inflating: dataset/tobeaugmented/defected/20200707_112352.jpg  \n",
            "  inflating: dataset/tobeaugmented/defected/20200707_112720.jpg  \n",
            "  inflating: dataset/tobeaugmented/defected/20200707_113129.jpg  \n",
            "  inflating: dataset/tobeaugmented/defected/20200707_113137.jpg  \n",
            "  inflating: dataset/tobeaugmented/defected/20200707_140718.jpg  \n",
            "  inflating: dataset/tobeaugmented/defected/20200707_140720.jpg  \n",
            "  inflating: dataset/tobeaugmented/defected/20200707_140735.jpg  \n",
            "  inflating: dataset/tobeaugmented/defected/20200707_141444.jpg  \n",
            "  inflating: dataset/tobeaugmented/defected/20200707_141446.jpg  \n",
            "  inflating: dataset/tobeaugmented/defected/20200707_141820.jpg  \n",
            "  inflating: dataset/tobeaugmented/defected/20200707_141822.jpg  \n",
            "  inflating: dataset/tobeaugmented/defected/20200707_141823.jpg  \n",
            "  inflating: dataset/tobeaugmented/defected/20200707_142106.jpg  \n",
            "  inflating: dataset/tobeaugmented/defected/20200707_142110.jpg  \n",
            "  inflating: dataset/tobeaugmented/defected/20200707_142552.jpg  \n",
            "  inflating: dataset/tobeaugmented/defected/20200707_142600.jpg  \n",
            "  inflating: dataset/tobeaugmented/defected/20200707_143039.jpg  \n",
            "  inflating: dataset/tobeaugmented/defected/20200707_143054.jpg  \n",
            "  inflating: dataset/tobeaugmented/defected/20200707_143539.jpg  \n",
            "  inflating: dataset/tobeaugmented/defected/20200707_143541.jpg  \n",
            "  inflating: dataset/tobeaugmented/defected/20200707_144045.jpg  \n",
            "  inflating: dataset/tobeaugmented/defected/20200707_144413.jpg  \n",
            "  inflating: dataset/tobeaugmented/defected/20200707_145207.jpg  \n",
            "  inflating: dataset/tobeaugmented/defected/20200707_145228.jpg  \n",
            "  inflating: dataset/tobeaugmented/defected/20200707_150015.jpg  \n",
            "  inflating: dataset/tobeaugmented/defected/20200707_150025.jpg  \n",
            "  inflating: dataset/tobeaugmented/defected/20200707_150029.jpg  \n",
            "  inflating: dataset/tobeaugmented/defected/20200707_150417.jpg  \n",
            "  inflating: dataset/tobeaugmented/defected/20200707_150907.jpg  \n",
            "  inflating: dataset/tobeaugmented/defected/20200707_150913.jpg  \n",
            "  inflating: dataset/tobeaugmented/defected/20200707_150931.jpg  \n",
            "  inflating: dataset/tobeaugmented/defected/20200707_151218.jpg  \n",
            "  inflating: dataset/tobeaugmented/defected/20200707_151221.jpg  \n",
            "  inflating: dataset/tobeaugmented/defected/20200707_151224.jpg  \n",
            "  inflating: dataset/tobeaugmented/defected/20200707_151558.jpg  \n",
            "  inflating: dataset/tobeaugmented/defected/20200707_152034.jpg  \n",
            "  inflating: dataset/tobeaugmented/defected/20200707_152040.jpg  \n",
            "  inflating: dataset/tobeaugmented/defected/20200707_152525.jpg  \n",
            "  inflating: dataset/tobeaugmented/defected/20200707_153050.jpg  \n",
            "  inflating: dataset/tobeaugmented/defected/20200707_153053.jpg  \n",
            "  inflating: dataset/tobeaugmented/defected/20200707_160659.jpg  \n",
            "  inflating: dataset/tobeaugmented/defected/20200707_161143.jpg  \n",
            "  inflating: dataset/tobeaugmented/defected/20200707_161204.jpg  \n",
            "  inflating: dataset/tobeaugmented/defected/20200707_161639.jpg  \n",
            "  inflating: dataset/tobeaugmented/defected/20200707_161651.jpg  \n",
            "  inflating: dataset/tobeaugmented/defected/20200707_162122.jpg  \n",
            "  inflating: dataset/tobeaugmented/defected/20200707_162826.jpg  \n",
            "  inflating: dataset/tobeaugmented/defected/20200707_163226.jpg  \n",
            "  inflating: dataset/tobeaugmented/defected/20200707_163230.jpg  \n",
            "  inflating: dataset/tobeaugmented/defected/20200707_163446.jpg  \n",
            "  inflating: dataset/tobeaugmented/defected/20200707_163721.jpg  \n",
            "  inflating: dataset/tobeaugmented/defected/20200707_163731.jpg  \n",
            "  inflating: dataset/tobeaugmented/defected/20200707_164223.jpg  \n",
            "  inflating: dataset/tobeaugmented/defected/20200707_164325.jpg  \n",
            "  inflating: dataset/tobeaugmented/defected/20200707_164702.jpg  \n",
            "  inflating: dataset/tobeaugmented/defected/20200707_164812.jpg  \n",
            "  inflating: dataset/tobeaugmented/defected/20200707_165004.jpg  \n",
            "  inflating: dataset/tobeaugmented/defected/20200707_165118.jpg  \n",
            "  inflating: dataset/tobeaugmented/defected/20200707_165150.jpg  \n",
            "  inflating: dataset/tobeaugmented/defected/20200707_165354.jpg  \n",
            "  inflating: dataset/tobeaugmented/defected/20200707_165453.jpg  \n",
            "  inflating: dataset/tobeaugmented/defected/20200707_165556.jpg  \n",
            "  inflating: dataset/tobeaugmented/defected/20200707_165812.jpg  \n",
            "  inflating: dataset/tobeaugmented/defected/20200707_170043.jpg  \n",
            "  inflating: dataset/tobeaugmented/defected/20200707_170152.jpg  \n",
            "  inflating: dataset/tobeaugmented/defected/20200707_170321.jpg  \n",
            "  inflating: dataset/tobeaugmented/defected/20200707_170501.jpg  \n",
            "  inflating: dataset/tobeaugmented/defected/20200707_170554.jpg  \n",
            "  inflating: dataset/tobeaugmented/defected/20200707_170620.jpg  \n",
            "  inflating: dataset/tobeaugmented/defected/20200707_170824.jpg  \n",
            "  inflating: dataset/tobeaugmented/defected/20200707_170952.jpg  \n",
            "  inflating: dataset/tobeaugmented/defected/20200707_171107.jpg  \n",
            "  inflating: dataset/tobeaugmented/defected/20200707_171217.jpg  \n",
            "  inflating: dataset/tobeaugmented/defected/20200707_171220.jpg  \n",
            "  inflating: dataset/tobeaugmented/non-defect/20200630_114408(1).jpg  \n",
            "  inflating: dataset/tobeaugmented/non-defect/20200630_114408.jpg  \n",
            "  inflating: dataset/tobeaugmented/non-defect/20200630_114415.jpg  \n",
            "  inflating: dataset/tobeaugmented/non-defect/20200630_114420.jpg  \n",
            "  inflating: dataset/tobeaugmented/non-defect/20200630_114422.jpg  \n",
            "  inflating: dataset/tobeaugmented/non-defect/20200630_114900.jpg  \n",
            "  inflating: dataset/tobeaugmented/non-defect/20200630_114947.jpg  \n",
            "  inflating: dataset/tobeaugmented/non-defect/20200630_115018.jpg  \n",
            "  inflating: dataset/tobeaugmented/non-defect/20200630_115035.jpg  \n",
            "  inflating: dataset/tobeaugmented/non-defect/20200630_115100.jpg  \n",
            "  inflating: dataset/tobeaugmented/non-defect/20200630_115124.jpg  \n",
            "  inflating: dataset/tobeaugmented/non-defect/20200630_115140.jpg  \n",
            "  inflating: dataset/tobeaugmented/non-defect/20200630_115211.jpg  \n",
            "  inflating: dataset/tobeaugmented/non-defect/20200630_115234.jpg  \n",
            "  inflating: dataset/tobeaugmented/non-defect/20200630_115252.jpg  \n",
            "  inflating: dataset/tobeaugmented/non-defect/20200630_115323.jpg  \n",
            "  inflating: dataset/tobeaugmented/non-defect/20200630_115339.jpg  \n",
            "  inflating: dataset/tobeaugmented/non-defect/20200630_115417.jpg  \n",
            "  inflating: dataset/tobeaugmented/non-defect/20200630_115436.jpg  \n",
            "  inflating: dataset/tobeaugmented/non-defect/20200630_115459.jpg  \n",
            "  inflating: dataset/tobeaugmented/non-defect/20200630_115501.jpg  \n",
            "  inflating: dataset/tobeaugmented/non-defect/20200630_115522.jpg  \n",
            "  inflating: dataset/tobeaugmented/non-defect/20200630_115540.jpg  \n",
            "  inflating: dataset/tobeaugmented/non-defect/20200630_115615.jpg  \n",
            "  inflating: dataset/tobeaugmented/non-defect/20200630_115641.jpg  \n",
            "  inflating: dataset/tobeaugmented/non-defect/20200630_115705.jpg  \n",
            "  inflating: dataset/tobeaugmented/non-defect/20200630_115729.jpg  \n",
            "  inflating: dataset/tobeaugmented/non-defect/20200630_115755.jpg  \n",
            "  inflating: dataset/tobeaugmented/non-defect/20200630_115817.jpg  \n",
            "  inflating: dataset/tobeaugmented/non-defect/20200630_115819.jpg  \n",
            "  inflating: dataset/tobeaugmented/non-defect/20200630_115839.jpg  \n",
            "  inflating: dataset/tobeaugmented/non-defect/20200630_120045.jpg  \n",
            "  inflating: dataset/tobeaugmented/non-defect/20200630_120110.jpg  \n",
            "  inflating: dataset/tobeaugmented/non-defect/20200630_120140.jpg  \n",
            "  inflating: dataset/tobeaugmented/non-defect/20200630_120156.jpg  \n",
            "  inflating: dataset/tobeaugmented/non-defect/20200630_120214.jpg  \n",
            "  inflating: dataset/tobeaugmented/non-defect/20200630_120229.jpg  \n",
            "  inflating: dataset/tobeaugmented/non-defect/20200630_120234.jpg  \n",
            "  inflating: dataset/tobeaugmented/non-defect/20200630_120300.jpg  \n",
            "  inflating: dataset/tobeaugmented/non-defect/20200630_120318.jpg  \n",
            "  inflating: dataset/tobeaugmented/non-defect/20200630_120532.jpg  \n",
            "  inflating: dataset/tobeaugmented/non-defect/20200630_120555.jpg  \n",
            "  inflating: dataset/tobeaugmented/non-defect/20200630_120612.jpg  \n",
            "  inflating: dataset/tobeaugmented/non-defect/20200630_120617.jpg  \n",
            "  inflating: dataset/tobeaugmented/non-defect/20200630_120633.jpg  \n",
            "  inflating: dataset/tobeaugmented/non-defect/20200630_120647.jpg  \n",
            "  inflating: dataset/tobeaugmented/non-defect/20200630_120711.jpg  \n",
            "  inflating: dataset/tobeaugmented/non-defect/20200630_120727.jpg  \n",
            "  inflating: dataset/tobeaugmented/non-defect/20200630_120740.jpg  \n",
            "  inflating: dataset/tobeaugmented/non-defect/20200630_120752.jpg  \n",
            "  inflating: dataset/tobeaugmented/non-defect/20200630_120804.jpg  \n",
            "  inflating: dataset/tobeaugmented/non-defect/20200630_120819.jpg  \n",
            "  inflating: dataset/tobeaugmented/non-defect/20200630_120831.jpg  \n",
            "  inflating: dataset/tobeaugmented/non-defect/20200630_120842.jpg  \n",
            "  inflating: dataset/tobeaugmented/non-defect/20200630_120952.jpg  \n",
            "  inflating: dataset/tobeaugmented/non-defect/20200630_121030.jpg  \n",
            "  inflating: dataset/tobeaugmented/non-defect/20200630_121039.jpg  \n",
            "  inflating: dataset/tobeaugmented/non-defect/20200630_121053.jpg  \n",
            "  inflating: dataset/tobeaugmented/non-defect/20200630_121104.jpg  \n",
            "  inflating: dataset/tobeaugmented/non-defect/20200630_121113.jpg  \n",
            "  inflating: dataset/tobeaugmented/non-defect/20200630_121133.jpg  \n",
            "  inflating: dataset/tobeaugmented/non-defect/20200630_121147.jpg  \n",
            "  inflating: dataset/tobeaugmented/non-defect/20200630_121420.jpg  \n",
            "  inflating: dataset/tobeaugmented/non-defect/20200630_121430.jpg  \n",
            "  inflating: dataset/tobeaugmented/non-defect/20200630_121447.jpg  \n",
            "  inflating: dataset/tobeaugmented/non-defect/20200630_121500.jpg  \n",
            "  inflating: dataset/tobeaugmented/non-defect/20200630_121513.jpg  \n",
            "  inflating: dataset/tobeaugmented/non-defect/20200630_121523.jpg  \n",
            "  inflating: dataset/tobeaugmented/non-defect/20200630_121538.jpg  \n",
            "  inflating: dataset/tobeaugmented/non-defect/20200630_121553.jpg  \n",
            "  inflating: dataset/tobeaugmented/non-defect/20200630_121556.jpg  \n",
            "  inflating: dataset/tobeaugmented/non-defect/20200630_121615.jpg  \n",
            "  inflating: dataset/tobeaugmented/non-defect/20200630_121628.jpg  \n",
            "  inflating: dataset/tobeaugmented/non-defect/20200630_121641.jpg  \n",
            "  inflating: dataset/tobeaugmented/non-defect/20200630_121654.jpg  \n",
            "  inflating: dataset/tobeaugmented/non-defect/20200630_121655.jpg  \n",
            "  inflating: dataset/tobeaugmented/non-defect/20200630_121712.jpg  \n",
            "  inflating: dataset/tobeaugmented/non-defect/20200630_121732.jpg  \n",
            "  inflating: dataset/tobeaugmented/non-defect/20200630_121914.jpg  \n",
            "  inflating: dataset/tobeaugmented/non-defect/20200630_121937.jpg  \n",
            "  inflating: dataset/tobeaugmented/non-defect/20200630_121957.jpg  \n",
            "  inflating: dataset/tobeaugmented/non-defect/20200630_122015.jpg  \n",
            "  inflating: dataset/tobeaugmented/non-defect/20200630_122027.jpg  \n",
            "  inflating: dataset/tobeaugmented/non-defect/20200630_122038.jpg  \n",
            "  inflating: dataset/tobeaugmented/non-defect/20200630_122040.jpg  \n",
            "  inflating: dataset/tobeaugmented/non-defect/20200630_122051.jpg  \n",
            "  inflating: dataset/tobeaugmented/non-defect/20200630_122104.jpg  \n",
            "  inflating: dataset/tobeaugmented/non-defect/20200630_122117.jpg  \n",
            "  inflating: dataset/tobeaugmented/non-defect/20200630_122130.jpg  \n",
            "  inflating: dataset/tobeaugmented/non-defect/20200630_122141.jpg  \n",
            "  inflating: dataset/tobeaugmented/non-defect/20200630_122152.jpg  \n",
            "  inflating: dataset/tobeaugmented/non-defect/20200630_122205.jpg  \n",
            "  inflating: dataset/tobeaugmented/non-defect/20200630_122220.jpg  \n",
            "  inflating: dataset/tobeaugmented/non-defect/20200630_122234.jpg  \n",
            "  inflating: dataset/tobeaugmented/non-defect/20200630_122249.jpg  \n",
            "  inflating: dataset/tobeaugmented/non-defect/20200630_122305.jpg  \n",
            "  inflating: dataset/tobeaugmented/non-defect/20200630_122327.jpg  \n",
            "  inflating: dataset/tobeaugmented/non-defect/20200630_122342.jpg  \n",
            "  inflating: dataset/tobeaugmented/non-defect/20200630_122401.jpg  \n",
            "  inflating: dataset/tobeaugmented/non-defect/20200630_122418.jpg  \n",
            "  inflating: dataset/tobeaugmented/non-defect/20200630_122641.jpg  \n",
            "  inflating: dataset/tobeaugmented/non-defect/20200630_122749.jpg  \n",
            "  inflating: dataset/tobeaugmented/non-defect/20200630_122823.jpg  \n",
            "  inflating: dataset/tobeaugmented/non-defect/20200630_122842.jpg  \n",
            "  inflating: dataset/tobeaugmented/non-defect/20200630_122905.jpg  \n",
            "  inflating: dataset/tobeaugmented/non-defect/20200630_123117.jpg  \n",
            "  inflating: dataset/tobeaugmented/non-defect/20200630_123151.jpg  \n",
            "  inflating: dataset/tobeaugmented/non-defect/20200630_123208.jpg  \n",
            "  inflating: dataset/tobeaugmented/non-defect/20200630_123220.jpg  \n",
            "  inflating: dataset/tobeaugmented/non-defect/20200630_123234.jpg  \n",
            "  inflating: dataset/tobeaugmented/non-defect/20200630_123235.jpg  \n",
            "  inflating: dataset/tobeaugmented/non-defect/20200630_123254.jpg  \n",
            "  inflating: dataset/tobeaugmented/non-defect/20200630_123310.jpg  \n",
            "  inflating: dataset/tobeaugmented/non-defect/20200630_123320.jpg  \n",
            "  inflating: dataset/tobeaugmented/non-defect/20200630_123331.jpg  \n",
            "  inflating: dataset/tobeaugmented/non-defect/20200630_123342.jpg  \n",
            "  inflating: dataset/tobeaugmented/non-defect/20200630_123352(1).jpg  \n",
            "  inflating: dataset/tobeaugmented/non-defect/20200630_123352.jpg  \n",
            "  inflating: dataset/tobeaugmented/non-defect/20200702_090502.jpg  \n",
            "  inflating: dataset/tobeaugmented/non-defect/20200702_090513.jpg  \n",
            "  inflating: dataset/tobeaugmented/non-defect/20200702_090525.jpg  \n",
            "  inflating: dataset/tobeaugmented/non-defect/20200702_090535.jpg  \n",
            "  inflating: dataset/tobeaugmented/non-defect/20200702_090543.jpg  \n",
            "  inflating: dataset/tobeaugmented/non-defect/20200702_090553.jpg  \n",
            "  inflating: dataset/tobeaugmented/non-defect/20200702_090605.jpg  \n",
            "  inflating: dataset/tobeaugmented/non-defect/20200702_090616.jpg  \n",
            "  inflating: dataset/tobeaugmented/non-defect/20200702_090627.jpg  \n",
            "  inflating: dataset/tobeaugmented/non-defect/20200702_090640.jpg  \n",
            "  inflating: dataset/tobeaugmented/non-defect/20200702_090737.jpg  \n",
            "  inflating: dataset/tobeaugmented/non-defect/20200702_090746.jpg  \n",
            "  inflating: dataset/tobeaugmented/non-defect/20200702_090753.jpg  \n",
            "  inflating: dataset/tobeaugmented/non-defect/20200702_090842.jpg  \n",
            "  inflating: dataset/tobeaugmented/non-defect/20200702_090849.jpg  \n",
            "  inflating: dataset/tobeaugmented/non-defect/20200702_090857.jpg  \n",
            "  inflating: dataset/tobeaugmented/non-defect/20200702_090906.jpg  \n",
            "  inflating: dataset/tobeaugmented/non-defect/20200702_090914.jpg  \n",
            "  inflating: dataset/tobeaugmented/non-defect/20200702_090921.jpg  \n",
            "  inflating: dataset/tobeaugmented/non-defect/20200702_090929.jpg  \n",
            "  inflating: dataset/tobeaugmented/non-defect/20200702_090940.jpg  \n",
            "  inflating: dataset/tobeaugmented/non-defect/20200702_090952.jpg  \n",
            "  inflating: dataset/tobeaugmented/non-defect/20200702_091005.jpg  \n",
            "  inflating: dataset/tobeaugmented/non-defect/20200702_091025.jpg  \n",
            "  inflating: dataset/tobeaugmented/non-defect/20200702_091059.jpg  \n",
            "  inflating: dataset/tobeaugmented/non-defect/20200702_091118.jpg  \n",
            "  inflating: dataset/tobeaugmented/non-defect/20200702_091214.jpg  \n",
            "  inflating: dataset/tobeaugmented/non-defect/20200702_091241.jpg  \n",
            "  inflating: dataset/tobeaugmented/non-defect/20200702_091256.jpg  \n",
            "  inflating: dataset/tobeaugmented/non-defect/20200702_091314.jpg  \n",
            "  inflating: dataset/tobeaugmented/non-defect/20200702_091454.jpg  \n",
            "  inflating: dataset/tobeaugmented/non-defect/20200702_091502.jpg  \n",
            "  inflating: dataset/tobeaugmented/non-defect/20200702_091513.jpg  \n",
            "  inflating: dataset/tobeaugmented/non-defect/20200702_091520.jpg  \n",
            "  inflating: dataset/tobeaugmented/non-defect/20200702_091528.jpg  \n",
            "  inflating: dataset/tobeaugmented/non-defect/20200702_091537.jpg  \n",
            "  inflating: dataset/tobeaugmented/non-defect/20200702_091544.jpg  \n",
            "  inflating: dataset/tobeaugmented/non-defect/20200702_091552.jpg  \n",
            "  inflating: dataset/tobeaugmented/non-defect/20200702_091602.jpg  \n",
            "  inflating: dataset/tobeaugmented/non-defect/20200702_091612.jpg  \n",
            "  inflating: dataset/tobeaugmented/non-defect/20200702_091620.jpg  \n",
            "  inflating: dataset/tobeaugmented/non-defect/20200702_091631.jpg  \n",
            "  inflating: dataset/tobeaugmented/non-defect/20200702_091646.jpg  \n",
            "  inflating: dataset/tobeaugmented/non-defect/20200702_091655.jpg  \n",
            "  inflating: dataset/tobeaugmented/non-defect/20200702_091707.jpg  \n",
            "  inflating: dataset/tobeaugmented/non-defect/20200702_091719.jpg  \n",
            "  inflating: dataset/tobeaugmented/non-defect/20200702_091732.jpg  \n",
            "  inflating: dataset/tobeaugmented/non-defect/20200702_091747.jpg  \n",
            "  inflating: dataset/tobeaugmented/non-defect/20200702_091802.jpg  \n",
            "  inflating: dataset/tobeaugmented/non-defect/20200702_091817.jpg  \n",
            "  inflating: dataset/tobeaugmented/non-defect/20200702_091832.jpg  \n",
            "  inflating: dataset/tobeaugmented/non-defect/20200702_091849.jpg  \n",
            "  inflating: dataset/tobeaugmented/non-defect/20200702_091907.jpg  \n",
            "  inflating: dataset/tobeaugmented/non-defect/20200702_091925.jpg  \n",
            "  inflating: dataset/tobeaugmented/non-defect/20200702_091940.jpg  \n",
            "  inflating: dataset/tobeaugmented/non-defect/20200702_092001.jpg  \n",
            "  inflating: dataset/tobeaugmented/non-defect/20200702_092111.jpg  \n",
            "  inflating: dataset/tobeaugmented/non-defect/20200702_092128.jpg  \n",
            "  inflating: dataset/tobeaugmented/non-defect/20200702_092151.jpg  \n",
            "  inflating: dataset/tobeaugmented/non-defect/20200702_092210.jpg  \n",
            "  inflating: dataset/tobeaugmented/non-defect/20200702_092225.jpg  \n",
            "  inflating: dataset/tobeaugmented/non-defect/20200702_092246.jpg  \n",
            "  inflating: dataset/tobeaugmented/non-defect/20200702_092301.jpg  \n",
            "  inflating: dataset/tobeaugmented/non-defect/20200702_092315.jpg  \n",
            "  inflating: dataset/tobeaugmented/non-defect/20200702_092344.jpg  \n",
            "  inflating: dataset/tobeaugmented/non-defect/20200702_092357.jpg  \n",
            "  inflating: dataset/tobeaugmented/non-defect/20200702_092417.jpg  \n",
            "  inflating: dataset/tobeaugmented/non-defect/20200702_092431.jpg  \n",
            "  inflating: dataset/tobeaugmented/non-defect/20200702_092451.jpg  \n",
            "  inflating: dataset/tobeaugmented/non-defect/20200702_092517.jpg  \n",
            "  inflating: dataset/tobeaugmented/non-defect/20200702_092533.jpg  \n",
            "  inflating: dataset/tobeaugmented/non-defect/20200702_092600.jpg  \n",
            "  inflating: dataset/tobeaugmented/non-defect/20200702_092614.jpg  \n",
            "  inflating: dataset/tobeaugmented/non-defect/20200702_092634.jpg  \n",
            "  inflating: dataset/tobeaugmented/non-defect/20200702_092647.jpg  \n",
            "  inflating: dataset/tobeaugmented/non-defect/20200702_092704.jpg  \n",
            "  inflating: dataset/tobeaugmented/non-defect/20200702_092705.jpg  \n",
            "  inflating: dataset/tobeaugmented/non-defect/20200702_092722.jpg  \n",
            "  inflating: dataset/tobeaugmented/non-defect/20200702_092734.jpg  \n",
            "  inflating: dataset/tobeaugmented/non-defect/20200702_092811.jpg  \n",
            "  inflating: dataset/tobeaugmented/non-defect/20200702_092825.jpg  \n",
            "  inflating: dataset/tobeaugmented/non-defect/20200702_092842.jpg  \n",
            "  inflating: dataset/tobeaugmented/non-defect/20200702_092908.jpg  \n",
            "  inflating: dataset/tobeaugmented/non-defect/20200702_092928.jpg  \n",
            "  inflating: dataset/tobeaugmented/non-defect/20200702_092947.jpg  \n",
            "  inflating: dataset/tobeaugmented/non-defect/20200702_093003.jpg  \n",
            "  inflating: dataset/tobeaugmented/non-defect/20200702_093017.jpg  \n",
            "  inflating: dataset/tobeaugmented/non-defect/20200702_093028.jpg  \n",
            "  inflating: dataset/tobeaugmented/non-defect/20200702_093056.jpg  \n",
            "  inflating: dataset/tobeaugmented/non-defect/20200702_095457.jpg  \n",
            "  inflating: dataset/tobeaugmented/non-defect/20200702_095505.jpg  \n",
            "  inflating: dataset/tobeaugmented/non-defect/20200702_095516.jpg  \n",
            "  inflating: dataset/tobeaugmented/non-defect/20200702_095523.jpg  \n",
            "  inflating: dataset/tobeaugmented/non-defect/20200702_095532.jpg  \n",
            "  inflating: dataset/tobeaugmented/non-defect/20200702_095541.jpg  \n",
            "  inflating: dataset/tobeaugmented/non-defect/20200702_095548.jpg  \n",
            "  inflating: dataset/tobeaugmented/non-defect/20200702_095554.jpg  \n",
            "  inflating: dataset/tobeaugmented/non-defect/20200702_095601.jpg  \n",
            "  inflating: dataset/tobeaugmented/non-defect/20200702_095607.jpg  \n",
            "  inflating: dataset/tobeaugmented/non-defect/20200702_095614.jpg  \n",
            "  inflating: dataset/tobeaugmented/non-defect/20200702_095624.jpg  \n",
            "  inflating: dataset/tobeaugmented/non-defect/20200702_095639.jpg  \n",
            "  inflating: dataset/tobeaugmented/non-defect/20200702_095651.jpg  \n",
            "  inflating: dataset/tobeaugmented/non-defect/20200702_095705.jpg  \n",
            "  inflating: dataset/tobeaugmented/non-defect/20200702_095716.jpg  \n",
            "  inflating: dataset/tobeaugmented/non-defect/20200702_095729.jpg  \n",
            "  inflating: dataset/tobeaugmented/non-defect/20200702_095743.jpg  \n",
            "  inflating: dataset/tobeaugmented/non-defect/20200702_095757.jpg  \n",
            "  inflating: dataset/tobeaugmented/non-defect/20200702_095810.jpg  \n",
            "  inflating: dataset/tobeaugmented/non-defect/20200702_095822.jpg  \n",
            "  inflating: dataset/tobeaugmented/non-defect/20200702_095836.jpg  \n",
            "  inflating: dataset/tobeaugmented/non-defect/20200702_095848.jpg  \n",
            "  inflating: dataset/tobeaugmented/non-defect/20200702_095911.jpg  \n",
            "  inflating: dataset/tobeaugmented/non-defect/20200702_095926.jpg  \n",
            "  inflating: dataset/tobeaugmented/non-defect/20200702_095949.jpg  \n",
            "  inflating: dataset/tobeaugmented/non-defect/20200702_100003.jpg  \n",
            "  inflating: dataset/tobeaugmented/non-defect/20200702_100128.jpg  \n",
            "  inflating: dataset/tobeaugmented/non-defect/20200702_100134.jpg  \n",
            "  inflating: dataset/tobeaugmented/non-defect/20200702_100149.jpg  \n",
            "  inflating: dataset/tobeaugmented/non-defect/20200702_100200.jpg  \n",
            "  inflating: dataset/tobeaugmented/non-defect/20200702_100208.jpg  \n",
            "  inflating: dataset/tobeaugmented/non-defect/20200702_100216(0).jpg  \n",
            "  inflating: dataset/tobeaugmented/non-defect/20200702_100216.jpg  \n",
            "  inflating: dataset/tobeaugmented/non-defect/20200702_100224.jpg  \n",
            "  inflating: dataset/tobeaugmented/non-defect/20200702_100232.jpg  \n",
            "  inflating: dataset/tobeaugmented/non-defect/20200702_100234.jpg  \n",
            "  inflating: dataset/tobeaugmented/non-defect/20200702_100240.jpg  \n",
            "  inflating: dataset/tobeaugmented/non-defect/20200702_100247.jpg  \n",
            "  inflating: dataset/tobeaugmented/non-defect/20200702_100255.jpg  \n",
            "  inflating: dataset/tobeaugmented/non-defect/20200702_100304.jpg  \n",
            "  inflating: dataset/tobeaugmented/non-defect/20200702_100325.jpg  \n",
            "  inflating: dataset/tobeaugmented/non-defect/20200702_100340.jpg  \n",
            "  inflating: dataset/tobeaugmented/non-defect/20200702_100353.jpg  \n",
            "  inflating: dataset/tobeaugmented/non-defect/20200702_100408.jpg  \n",
            "  inflating: dataset/tobeaugmented/non-defect/20200702_100422.jpg  \n",
            "  inflating: dataset/tobeaugmented/non-defect/20200702_100436.jpg  \n",
            "  inflating: dataset/tobeaugmented/non-defect/20200702_100450.jpg  \n",
            "  inflating: dataset/tobeaugmented/non-defect/20200702_100521.jpg  \n",
            "  inflating: dataset/tobeaugmented/non-defect/20200702_100522.jpg  \n",
            "  inflating: dataset/tobeaugmented/non-defect/20200702_100530.jpg  \n",
            "  inflating: dataset/tobeaugmented/non-defect/20200702_100540.jpg  \n",
            "  inflating: dataset/tobeaugmented/non-defect/20200702_100552.jpg  \n",
            "  inflating: dataset/tobeaugmented/non-defect/20200702_100604.jpg  \n",
            "  inflating: dataset/tobeaugmented/non-defect/20200702_100638.jpg  \n",
            "  inflating: dataset/tobeaugmented/non-defect/20200702_100654.jpg  \n",
            "  inflating: dataset/tobeaugmented/non-defect/20200702_100823.jpg  \n",
            "  inflating: dataset/tobeaugmented/non-defect/20200702_100842.jpg  \n",
            "  inflating: dataset/tobeaugmented/non-defect/20200702_100849.jpg  \n",
            "  inflating: dataset/tobeaugmented/non-defect/20200702_100856.jpg  \n",
            "  inflating: dataset/tobeaugmented/non-defect/20200702_100904.jpg  \n",
            "  inflating: dataset/tobeaugmented/non-defect/20200702_100912.jpg  \n",
            "  inflating: dataset/tobeaugmented/non-defect/20200702_100921.jpg  \n",
            "  inflating: dataset/tobeaugmented/non-defect/20200702_100928.jpg  \n",
            "  inflating: dataset/tobeaugmented/non-defect/20200702_100937.jpg  \n",
            "  inflating: dataset/tobeaugmented/non-defect/20200702_100958.jpg  \n",
            "  inflating: dataset/tobeaugmented/non-defect/20200702_101014.jpg  \n",
            "  inflating: dataset/tobeaugmented/non-defect/20200702_101027.jpg  \n",
            "  inflating: dataset/tobeaugmented/non-defect/20200702_101043.jpg  \n",
            "  inflating: dataset/tobeaugmented/non-defect/20200702_101058.jpg  \n",
            "  inflating: dataset/tobeaugmented/non-defect/20200702_101111.jpg  \n",
            "  inflating: dataset/tobeaugmented/non-defect/20200702_101124.jpg  \n",
            "  inflating: dataset/tobeaugmented/non-defect/20200702_101139.jpg  \n",
            "  inflating: dataset/tobeaugmented/non-defect/20200702_101154.jpg  \n",
            "  inflating: dataset/tobeaugmented/non-defect/20200702_101156.jpg  \n",
            "  inflating: dataset/tobeaugmented/non-defect/20200702_101207.jpg  \n",
            "  inflating: dataset/tobeaugmented/non-defect/20200702_101218(1).jpg  \n",
            "  inflating: dataset/tobeaugmented/non-defect/20200702_101218.jpg  \n"
          ],
          "name": "stdout"
        }
      ]
    },
    {
      "cell_type": "markdown",
      "metadata": {
        "id": "gj2NNxP-2Ctj"
      },
      "source": [
        "### Data preprocesing "
      ]
    },
    {
      "cell_type": "code",
      "metadata": {
        "id": "3kOxtnZ3B2YD",
        "outputId": "3238dfdb-c40d-41b1-a1b4-df6703edba64",
        "colab": {
          "base_uri": "https://localhost:8080/",
          "height": 67
        }
      },
      "source": [
        "import numpy as np\n",
        "import matplotlib.pyplot as plt\n",
        "import os\n",
        "import cv2\n",
        "from tqdm import tqdm\n",
        "\n",
        "DATADIR = \"/content/dataset/tobeaugmented\"\n",
        "\n",
        "CATEGORIES = [\"defected\", \"non-defect\"]\n",
        "\n",
        "training_data = []\n",
        "\n",
        "def create_training_data():\n",
        "    for category in CATEGORIES: \n",
        "\n",
        "        path = os.path.join(DATADIR,category)  \n",
        "        class_num = CATEGORIES.index(category)  \n",
        "\n",
        "        for img in tqdm(os.listdir(path)):  \n",
        "            try:\n",
        "                img_array = cv2.imread(os.path.join(path,img) ,cv2.IMREAD_GRAYSCALE) \n",
        "                new_array = cv2.resize(img_array, (IMG_SIZE, IMG_SIZE))  \n",
        "                training_data.append([new_array, class_num])  \n",
        "            except Exception as e: \n",
        "                pass\n",
        "\n",
        "create_training_data()\n",
        "\n",
        "print(len(training_data))"
      ],
      "execution_count": null,
      "outputs": [
        {
          "output_type": "stream",
          "text": [
            "100%|██████████| 101/101 [00:11<00:00,  8.63it/s]\n",
            "100%|██████████| 285/285 [00:24<00:00, 11.83it/s]"
          ],
          "name": "stderr"
        },
        {
          "output_type": "stream",
          "text": [
            "0\n"
          ],
          "name": "stdout"
        },
        {
          "output_type": "stream",
          "text": [
            "\n"
          ],
          "name": "stderr"
        }
      ]
    },
    {
      "cell_type": "code",
      "metadata": {
        "id": "o3rE4BZ0LHKN"
      },
      "source": [
        "import random\n",
        "\n",
        "random.shuffle(training_data)"
      ],
      "execution_count": null,
      "outputs": []
    },
    {
      "cell_type": "code",
      "metadata": {
        "id": "QB4d8UulLPCl"
      },
      "source": [
        "X = []\n",
        "y = []\n",
        "IMG_SIZE = 250\n",
        "\n",
        "for features,label in training_data:\n",
        "    X.append(features)\n",
        "    y.append(label)\n",
        "\n",
        "\n",
        "X = np.array(X).reshape(-1, IMG_SIZE, IMG_SIZE, 1)"
      ],
      "execution_count": null,
      "outputs": []
    },
    {
      "cell_type": "markdown",
      "metadata": {
        "id": "T21SUohZ2Re7"
      },
      "source": [
        "### Model "
      ]
    },
    {
      "cell_type": "code",
      "metadata": {
        "id": "sShABzc4OQgA"
      },
      "source": [
        "import tensorflow as tf\n",
        "from tensorflow.keras.datasets import cifar10\n",
        "from tensorflow.keras.preprocessing.image import ImageDataGenerator\n",
        "from tensorflow.keras.models import Sequential\n",
        "from tensorflow.keras.layers import Dense, Dropout, Activation, Flatten\n",
        "from tensorflow.keras.layers import Conv2D, MaxPooling2D\n",
        "\n",
        "import pickle\n",
        "\n",
        "X = X/255.0\n",
        "\n",
        "model = Sequential()\n",
        "\n",
        "model.add(Conv2D(512, (3, 3), input_shape=X.shape[1:]))\n",
        "model.add(Activation('relu'))\n",
        "model.add(MaxPooling2D(pool_size=(2, 2)))\n",
        "\n",
        "model.add(Conv2D(256, (3, 3)))\n",
        "model.add(Activation('relu'))\n",
        "model.add(MaxPooling2D(pool_size=(2, 2)))\n",
        "\n",
        "model.add(Conv2D(128, (3, 3)))\n",
        "model.add(Activation('relu'))\n",
        "model.add(MaxPooling2D(pool_size=(2, 2)))\n",
        "\n",
        "model.add(Flatten())  \n",
        "\n",
        "model.add(Dense(64))\n",
        "\n",
        "model.add(Dense(1))\n",
        "model.add(Activation('softmax'))"
      ],
      "execution_count": null,
      "outputs": []
    },
    {
      "cell_type": "code",
      "metadata": {
        "id": "mXONi8rGOh8q"
      },
      "source": [
        "model.compile(loss='binary_crossentropy',\n",
        "              optimizer='adam',\n",
        "              metrics=['accuracy'])\n",
        "\n",
        "model.fit(np.array(X), np.array(y), batch_size=32, epochs=3, validation_split=0.2)"
      ],
      "execution_count": null,
      "outputs": []
    }
  ]
}